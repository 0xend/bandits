{
 "cells": [
  {
   "cell_type": "markdown",
   "metadata": {},
   "source": [
    "<div style='width: 750px; margin-left: 30px;'><h3>A quick introduction, and playground for Multi-armed Bandit Problems/Algorithms</h3>\n",
    "<br />\n",
    "<div style='font-size:16px; font-family:Sans-Serif;'>\n",
    "\n",
    "<h4>Base case</h4>\n",
    "<ul style='margin-left:30px'>\n",
    "<li>There is a set $\\mathcal{A}$ of m actions (or arms) that is available to the agent.</li>\n",
    "<li>Each action $a$ is associated with a reward distribution $\\mathcal{R}^a$. </li>\n",
    "<li>At each timestep $t$, the agent chooses an action $a_t \\in \\mathcal{A}$ and receives a reward $r_t \\sim \\mathcal{R}^{a_t}$.</li>\n",
    "<li>The agent's goal is to maximize total reward: $ \\sum_{t=1}^T r_t$.</li>\n",
    "</ul> <br />\n",
    "The last statement is equivalent to minimizing regret, where we define regret as the difference between the reward asscoaited with the best possible action at step $t$, and the reward that was actually received: $l_t=\\max\\limits_{a_t \\in \\mathcal{A}}\\mathbf{E}[r_t|a_t]-r_t$\n",
    "<p></p>\n",
    "</div>\n",
    "</div>"
   ]
  },
  {
   "cell_type": "code",
   "execution_count": 258,
   "metadata": {
    "collapsed": false
   },
   "outputs": [],
   "source": [
    "from scipy.stats import norm\n",
    "from scipy.optimize import curve_fit\n",
    "import matplotlib.pyplot as plt\n",
    "import numpy as np\n",
    "import seaborn as sns\n",
    "\n",
    "%matplotlib inline"
   ]
  },
  {
   "cell_type": "markdown",
   "metadata": {},
   "source": [
    "<h4>Four normals with different expected/variance.</h4> <br />\n",
    "$\n",
    "\\begin{align}\n",
    "\\mathcal{R_1} &\\sim \\mathcal{N}(15, 10)\\\\\n",
    "\\mathcal{R_1} &\\sim \\mathcal{N}(5, 25)\\\\\n",
    "\\mathcal{R_1} &\\sim \\mathcal{N}(20, 25)\\\\\n",
    "\\mathcal{R_1} &\\sim \\mathcal{N}(30, 20)\n",
    "\\end{align}\n",
    "$"
   ]
  },
  {
   "cell_type": "code",
   "execution_count": 438,
   "metadata": {
    "collapsed": false,
    "scrolled": true
   },
   "outputs": [
    {
     "data": {
      "image/png": "[encoded data removed]",
      "text/plain": [
       "<matplotlib.figure.Figure at 0x135ff2490>"
      ]
     },
     "metadata": {},
     "output_type": "display_data"
    }
   ],
   "source": [
    "params = [(15, 10), (5, 25), (20, 25), (30, 20)]\n",
    "arms = [BaseArm(norm(u, s)) for u, s in params]\n",
    "env = Environment(arms)\n",
    "\n",
    "x = np.linspace(-80, 120, 1000)\n",
    "for (mu, s), c in zip(params, ['r', 'g', 'b', 'm']):\n",
    "    plt.fill_between(x, norm.pdf(x, mu, s), alpha=0.3, color=c)\n",
    "plt.show()"
   ]
  },
  {
   "cell_type": "code",
   "execution_count": 439,
   "metadata": {
    "collapsed": false
   },
   "outputs": [],
   "source": [
    "import numpy as np\n",
    "import random\n",
    "\n",
    "class Environment(object):    \n",
    "    \n",
    "    def __init__(self, arms):\n",
    "        self.arms = arms\n",
    "        \n",
    "    def m(self):\n",
    "        return len(self.arms)\n",
    "        \n",
    "    def pull(self, i, *ctx):\n",
    "        r = self.arms[i].pull(*ctx)\n",
    "        return max(a.expected(*ctx) for a in arms), r\n",
    "\n",
    "class Arm(object):\n",
    "    \n",
    "    def pull(self, *ctx):\n",
    "        raise NotImplementedError\n",
    "\n",
    "    def expected(self):\n",
    "        raise NotImplementedError\n",
    "\n",
    "class BaseArm(Arm):\n",
    "    \n",
    "    def __init__(self, D):\n",
    "        self.D = D\n",
    "    \n",
    "    def pull(self):\n",
    "        return self.D.rvs()\n",
    "    \n",
    "    def expected(self):\n",
    "        return self.D.mean()\n",
    "    \n",
    "class Agent(object):\n",
    "    \n",
    "    def play(self, T):\n",
    "        raise NotImplementedError\n",
    "\n",
    "class RandomAgent(Agent):\n",
    "    \n",
    "    def __init__(self, env):\n",
    "        self.env = env\n",
    "\n",
    "    def play(self, T):\n",
    "        m = self.env.m()\n",
    "        choices = np.random.randint(0, high=m, size=T)\n",
    "        rewards_opt = np.array([self.env.pull(i) for i in choices])\n",
    "        return choices, rewards_opt"
   ]
  },
  {
   "cell_type": "code",
   "execution_count": 442,
   "metadata": {
    "collapsed": false
   },
   "outputs": [
    {
     "name": "stdout",
     "output_type": "stream",
     "text": [
      "[[ 30.           5.89932678]\n",
      " [ 30.          32.11205527]\n",
      " [ 30.         -12.45090944]\n",
      " [ 30.         -12.73285042]\n",
      " [ 30.          -6.49840931]\n",
      " [ 30.          25.63643884]\n",
      " [ 30.         -25.92229079]\n",
      " [ 30.          63.4155218 ]\n",
      " [ 30.           1.09137357]\n",
      " [ 30.           9.54547963]]\n"
     ]
    }
   ],
   "source": [
    "agent = RandomAgent(env)\n",
    "choices, rewards_opt = agent.play(10)\n",
    "print rewards_opt"
   ]
  },
  {
   "cell_type": "code",
   "execution_count": null,
   "metadata": {
    "collapsed": true
   },
   "outputs": [],
   "source": []
  }
 ],
 "metadata": {
  "kernelspec": {
   "display_name": "Python 2",
   "language": "python",
   "name": "python2"
  },
  "language_info": {
   "codemirror_mode": {
    "name": "ipython",
    "version": 2
   },
   "file_extension": ".py",
   "mimetype": "text/x-python",
   "name": "python",
   "nbconvert_exporter": "python",
   "pygments_lexer": "ipython2",
   "version": "2.7.11"
  }
 },
 "nbformat": 4,
 "nbformat_minor": 1
}
